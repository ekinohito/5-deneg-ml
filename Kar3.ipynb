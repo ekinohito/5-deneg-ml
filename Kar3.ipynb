{
  "nbformat": 4,
  "nbformat_minor": 0,
  "metadata": {
    "colab": {
      "name": "Kar3.ipynb",
      "provenance": []
    },
    "kernelspec": {
      "name": "python3",
      "display_name": "Python 3"
    },
    "language_info": {
      "name": "python"
    }
  },
  "cells": [
    {
      "cell_type": "code",
      "metadata": {
        "colab": {
          "base_uri": "https://localhost:8080/"
        },
        "id": "mU5M8xZTv09l",
        "outputId": "0892d6f9-004e-4edb-93a3-a818af199913"
      },
      "source": [
        "!pip install catboost\n",
        "import pandas as pd\n",
        "import catboost\n",
        "from google.colab import drive\n",
        "drive.mount('/content/drive')"
      ],
      "execution_count": 12,
      "outputs": [
        {
          "output_type": "stream",
          "name": "stdout",
          "text": [
            "Requirement already satisfied: catboost in /usr/local/lib/python3.7/dist-packages (0.26.1)\n",
            "Requirement already satisfied: pandas>=0.24.0 in /usr/local/lib/python3.7/dist-packages (from catboost) (1.1.5)\n",
            "Requirement already satisfied: matplotlib in /usr/local/lib/python3.7/dist-packages (from catboost) (3.2.2)\n",
            "Requirement already satisfied: scipy in /usr/local/lib/python3.7/dist-packages (from catboost) (1.4.1)\n",
            "Requirement already satisfied: graphviz in /usr/local/lib/python3.7/dist-packages (from catboost) (0.10.1)\n",
            "Requirement already satisfied: numpy>=1.16.0 in /usr/local/lib/python3.7/dist-packages (from catboost) (1.19.5)\n",
            "Requirement already satisfied: plotly in /usr/local/lib/python3.7/dist-packages (from catboost) (4.4.1)\n",
            "Requirement already satisfied: six in /usr/local/lib/python3.7/dist-packages (from catboost) (1.15.0)\n",
            "Requirement already satisfied: pytz>=2017.2 in /usr/local/lib/python3.7/dist-packages (from pandas>=0.24.0->catboost) (2018.9)\n",
            "Requirement already satisfied: python-dateutil>=2.7.3 in /usr/local/lib/python3.7/dist-packages (from pandas>=0.24.0->catboost) (2.8.2)\n",
            "Requirement already satisfied: kiwisolver>=1.0.1 in /usr/local/lib/python3.7/dist-packages (from matplotlib->catboost) (1.3.1)\n",
            "Requirement already satisfied: cycler>=0.10 in /usr/local/lib/python3.7/dist-packages (from matplotlib->catboost) (0.10.0)\n",
            "Requirement already satisfied: pyparsing!=2.0.4,!=2.1.2,!=2.1.6,>=2.0.1 in /usr/local/lib/python3.7/dist-packages (from matplotlib->catboost) (2.4.7)\n",
            "Requirement already satisfied: retrying>=1.3.3 in /usr/local/lib/python3.7/dist-packages (from plotly->catboost) (1.3.3)\n",
            "Drive already mounted at /content/drive; to attempt to forcibly remount, call drive.mount(\"/content/drive\", force_remount=True).\n"
          ]
        }
      ]
    },
    {
      "cell_type": "code",
      "metadata": {
        "id": "_d7v6upUwGI0"
      },
      "source": [
        "from catboost import CatBoostRegressor"
      ],
      "execution_count": 18,
      "outputs": []
    },
    {
      "cell_type": "code",
      "metadata": {
        "id": "HHZuI3xAwQ9Y"
      },
      "source": [
        "test = pd.read_csv('/content/drive/MyDrive/Colab Notebooks/Kareliya_final/test1.csv')\n",
        "train = pd.read_csv('/content/drive/MyDrive/Colab Notebooks/Kareliya_final/train1.csv')"
      ],
      "execution_count": 22,
      "outputs": []
    },
    {
      "cell_type": "code",
      "metadata": {
        "colab": {
          "base_uri": "https://localhost:8080/",
          "height": 203
        },
        "id": "XfrPvFUcwRYy",
        "outputId": "972556fc-85a8-4dff-8e83-1bece464731b"
      },
      "source": [
        "# доход\n",
        "income_ans = pd.read_csv('/content/drive/MyDrive/Colab Notebooks/Kareliya_final/income_ans.csv')\n",
        "# Initialize CatBoostRegressor\n",
        "\n",
        "income_ans.head()"
      ],
      "execution_count": 23,
      "outputs": [
        {
          "output_type": "execute_result",
          "data": {
            "text/html": [
              "<div>\n",
              "<style scoped>\n",
              "    .dataframe tbody tr th:only-of-type {\n",
              "        vertical-align: middle;\n",
              "    }\n",
              "\n",
              "    .dataframe tbody tr th {\n",
              "        vertical-align: top;\n",
              "    }\n",
              "\n",
              "    .dataframe thead th {\n",
              "        text-align: right;\n",
              "    }\n",
              "</style>\n",
              "<table border=\"1\" class=\"dataframe\">\n",
              "  <thead>\n",
              "    <tr style=\"text-align: right;\">\n",
              "      <th></th>\n",
              "      <th>ans</th>\n",
              "    </tr>\n",
              "  </thead>\n",
              "  <tbody>\n",
              "    <tr>\n",
              "      <th>0</th>\n",
              "      <td>24873441175</td>\n",
              "    </tr>\n",
              "    <tr>\n",
              "      <th>1</th>\n",
              "      <td>27556466681</td>\n",
              "    </tr>\n",
              "    <tr>\n",
              "      <th>2</th>\n",
              "      <td>26893154750</td>\n",
              "    </tr>\n",
              "    <tr>\n",
              "      <th>3</th>\n",
              "      <td>23984242603</td>\n",
              "    </tr>\n",
              "    <tr>\n",
              "      <th>4</th>\n",
              "      <td>27750206180</td>\n",
              "    </tr>\n",
              "  </tbody>\n",
              "</table>\n",
              "</div>"
            ],
            "text/plain": [
              "           ans\n",
              "0  24873441175\n",
              "1  27556466681\n",
              "2  26893154750\n",
              "3  23984242603\n",
              "4  27750206180"
            ]
          },
          "metadata": {},
          "execution_count": 23
        }
      ]
    },
    {
      "cell_type": "code",
      "metadata": {
        "colab": {
          "base_uri": "https://localhost:8080/",
          "height": 203
        },
        "id": "5y4rZmrGzkbL",
        "outputId": "7a83d88d-6ee0-4b97-953f-68cd2d3d0735"
      },
      "source": [
        "train.head()"
      ],
      "execution_count": 24,
      "outputs": [
        {
          "output_type": "execute_result",
          "data": {
            "text/html": [
              "<div>\n",
              "<style scoped>\n",
              "    .dataframe tbody tr th:only-of-type {\n",
              "        vertical-align: middle;\n",
              "    }\n",
              "\n",
              "    .dataframe tbody tr th {\n",
              "        vertical-align: top;\n",
              "    }\n",
              "\n",
              "    .dataframe thead th {\n",
              "        text-align: right;\n",
              "    }\n",
              "</style>\n",
              "<table border=\"1\" class=\"dataframe\">\n",
              "  <thead>\n",
              "    <tr style=\"text-align: right;\">\n",
              "      <th></th>\n",
              "      <th>population</th>\n",
              "      <th>index1</th>\n",
              "      <th>index2</th>\n",
              "      <th>val</th>\n",
              "      <th>indexCDE</th>\n",
              "      <th>indexC</th>\n",
              "      <th>indexD</th>\n",
              "      <th>indexE</th>\n",
              "      <th>ingexF</th>\n",
              "      <th>alco</th>\n",
              "      <th>inv1</th>\n",
              "      <th>inv2</th>\n",
              "      <th>roz1</th>\n",
              "      <th>roz2</th>\n",
              "      <th>salary</th>\n",
              "      <th>mon</th>\n",
              "      <th>tax</th>\n",
              "      <th>import1</th>\n",
              "      <th>import2</th>\n",
              "      <th>unemp1</th>\n",
              "      <th>unemp2</th>\n",
              "    </tr>\n",
              "  </thead>\n",
              "  <tbody>\n",
              "    <tr>\n",
              "      <th>0</th>\n",
              "      <td>646.1</td>\n",
              "      <td>107.3</td>\n",
              "      <td>109.9</td>\n",
              "      <td>130000.0</td>\n",
              "      <td>110.4</td>\n",
              "      <td>114.5</td>\n",
              "      <td>111.0</td>\n",
              "      <td>95.7</td>\n",
              "      <td>98.6</td>\n",
              "      <td>1048.1</td>\n",
              "      <td>22266.1</td>\n",
              "      <td>114.8</td>\n",
              "      <td>60033.4</td>\n",
              "      <td>105.7</td>\n",
              "      <td>54935.5</td>\n",
              "      <td>103.8</td>\n",
              "      <td>22108.6</td>\n",
              "      <td>342.6</td>\n",
              "      <td>122.5</td>\n",
              "      <td>11.9</td>\n",
              "      <td>3.2</td>\n",
              "    </tr>\n",
              "    <tr>\n",
              "      <th>1</th>\n",
              "      <td>641.1</td>\n",
              "      <td>108.6</td>\n",
              "      <td>105.3</td>\n",
              "      <td>139200.0</td>\n",
              "      <td>99.4</td>\n",
              "      <td>107.6</td>\n",
              "      <td>93.9</td>\n",
              "      <td>86.8</td>\n",
              "      <td>86.8</td>\n",
              "      <td>546.4</td>\n",
              "      <td>29698.1</td>\n",
              "      <td>125.5</td>\n",
              "      <td>69919.6</td>\n",
              "      <td>107.9</td>\n",
              "      <td>60180.0</td>\n",
              "      <td>99.6</td>\n",
              "      <td>34792.0</td>\n",
              "      <td>479.4</td>\n",
              "      <td>147.1</td>\n",
              "      <td>8.7</td>\n",
              "      <td>2.4</td>\n",
              "    </tr>\n",
              "    <tr>\n",
              "      <th>2</th>\n",
              "      <td>638.3</td>\n",
              "      <td>104.6</td>\n",
              "      <td>106.1</td>\n",
              "      <td>162002.8</td>\n",
              "      <td>102.0</td>\n",
              "      <td>102.6</td>\n",
              "      <td>97.1</td>\n",
              "      <td>117.7</td>\n",
              "      <td>94.4</td>\n",
              "      <td>1132.7</td>\n",
              "      <td>33947.2</td>\n",
              "      <td>106.5</td>\n",
              "      <td>78438.8</td>\n",
              "      <td>108.4</td>\n",
              "      <td>67080.1</td>\n",
              "      <td>108.7</td>\n",
              "      <td>29374.0</td>\n",
              "      <td>310.7</td>\n",
              "      <td>93.1</td>\n",
              "      <td>7.1</td>\n",
              "      <td>2.1</td>\n",
              "    </tr>\n",
              "    <tr>\n",
              "      <th>3</th>\n",
              "      <td>635.7</td>\n",
              "      <td>106.7</td>\n",
              "      <td>106.5</td>\n",
              "      <td>167500.0</td>\n",
              "      <td>93.3</td>\n",
              "      <td>101.6</td>\n",
              "      <td>83.2</td>\n",
              "      <td>88.3</td>\n",
              "      <td>107.6</td>\n",
              "      <td>486.3</td>\n",
              "      <td>29979.8</td>\n",
              "      <td>82.2</td>\n",
              "      <td>86819.8</td>\n",
              "      <td>104.5</td>\n",
              "      <td>72633.2</td>\n",
              "      <td>97.8</td>\n",
              "      <td>12222.3</td>\n",
              "      <td>234.0</td>\n",
              "      <td>75.3</td>\n",
              "      <td>6.4</td>\n",
              "      <td>1.9</td>\n",
              "    </tr>\n",
              "    <tr>\n",
              "      <th>4</th>\n",
              "      <td>633.5</td>\n",
              "      <td>107.5</td>\n",
              "      <td>110.9</td>\n",
              "      <td>185640.4</td>\n",
              "      <td>101.7</td>\n",
              "      <td>100.3</td>\n",
              "      <td>103.2</td>\n",
              "      <td>104.2</td>\n",
              "      <td>98.1</td>\n",
              "      <td>652.1</td>\n",
              "      <td>33399.5</td>\n",
              "      <td>92.9</td>\n",
              "      <td>97333.1</td>\n",
              "      <td>102.6</td>\n",
              "      <td>74523.9</td>\n",
              "      <td>99.0</td>\n",
              "      <td>10210.0</td>\n",
              "      <td>206.8</td>\n",
              "      <td>88.4</td>\n",
              "      <td>6.3</td>\n",
              "      <td>1.9</td>\n",
              "    </tr>\n",
              "  </tbody>\n",
              "</table>\n",
              "</div>"
            ],
            "text/plain": [
              "   population  index1  index2       val  ...  import1  import2  unemp1  unemp2\n",
              "0       646.1   107.3   109.9  130000.0  ...    342.6    122.5    11.9     3.2\n",
              "1       641.1   108.6   105.3  139200.0  ...    479.4    147.1     8.7     2.4\n",
              "2       638.3   104.6   106.1  162002.8  ...    310.7     93.1     7.1     2.1\n",
              "3       635.7   106.7   106.5  167500.0  ...    234.0     75.3     6.4     1.9\n",
              "4       633.5   107.5   110.9  185640.4  ...    206.8     88.4     6.3     1.9\n",
              "\n",
              "[5 rows x 21 columns]"
            ]
          },
          "metadata": {},
          "execution_count": 24
        }
      ]
    },
    {
      "cell_type": "code",
      "metadata": {
        "colab": {
          "base_uri": "https://localhost:8080/"
        },
        "id": "VgH34M_MwVar",
        "outputId": "87f4bc22-1570-43a1-bbe0-10b0c1107659"
      },
      "source": [
        "model = CatBoostRegressor(iterations=5,\n",
        "                          learning_rate=5,\n",
        "                          depth=2)\n",
        "# Fit model\n",
        "model.fit(train, income_ans)\n",
        "# Get predictions\n",
        "preds = model.predict(test)\n",
        "preds"
      ],
      "execution_count": 37,
      "outputs": [
        {
          "output_type": "stream",
          "name": "stdout",
          "text": [
            "0:\tlearn: 4146747986.3318791\ttotal: 212us\tremaining: 850us\n",
            "1:\tlearn: 4198545768.1794314\ttotal: 412us\tremaining: 619us\n",
            "2:\tlearn: 5874229695.5064974\ttotal: 1.33ms\tremaining: 888us\n",
            "3:\tlearn: 8557734866.1033087\ttotal: 1.51ms\tremaining: 378us\n",
            "4:\tlearn: 12665714671.1168251\ttotal: 2.26ms\tremaining: 0us\n"
          ]
        },
        {
          "output_type": "stream",
          "name": "stderr",
          "text": [
            "learning rate is greater than 1. You probably need to decrease learning rate.\n",
            "learning rate is greater than 1. You probably need to decrease learning rate.\n"
          ]
        },
        {
          "output_type": "execute_result",
          "data": {
            "text/plain": [
              "array([4.39650838e+10])"
            ]
          },
          "metadata": {},
          "execution_count": 37
        }
      ]
    },
    {
      "cell_type": "code",
      "metadata": {
        "id": "ZzqNYSnlw_EM"
      },
      "source": [
        "expense_ans = pd.read_csv('/content/drive/MyDrive/Colab Notebooks/Kareliya_final/expense_ans.csv')"
      ],
      "execution_count": 38,
      "outputs": []
    },
    {
      "cell_type": "code",
      "metadata": {
        "colab": {
          "base_uri": "https://localhost:8080/",
          "height": 203
        },
        "id": "Vfb6KDEs0izy",
        "outputId": "cc4e2abf-d5ff-470b-a996-1b918f6ba4ed"
      },
      "source": [
        "expense_ans.head()"
      ],
      "execution_count": 39,
      "outputs": [
        {
          "output_type": "execute_result",
          "data": {
            "text/html": [
              "<div>\n",
              "<style scoped>\n",
              "    .dataframe tbody tr th:only-of-type {\n",
              "        vertical-align: middle;\n",
              "    }\n",
              "\n",
              "    .dataframe tbody tr th {\n",
              "        vertical-align: top;\n",
              "    }\n",
              "\n",
              "    .dataframe thead th {\n",
              "        text-align: right;\n",
              "    }\n",
              "</style>\n",
              "<table border=\"1\" class=\"dataframe\">\n",
              "  <thead>\n",
              "    <tr style=\"text-align: right;\">\n",
              "      <th></th>\n",
              "      <th>names</th>\n",
              "    </tr>\n",
              "  </thead>\n",
              "  <tbody>\n",
              "    <tr>\n",
              "      <th>0</th>\n",
              "      <td>25641875415</td>\n",
              "    </tr>\n",
              "    <tr>\n",
              "      <th>1</th>\n",
              "      <td>27631246904</td>\n",
              "    </tr>\n",
              "    <tr>\n",
              "      <th>2</th>\n",
              "      <td>29140749888</td>\n",
              "    </tr>\n",
              "    <tr>\n",
              "      <th>3</th>\n",
              "      <td>28754420604</td>\n",
              "    </tr>\n",
              "    <tr>\n",
              "      <th>4</th>\n",
              "      <td>31039085086</td>\n",
              "    </tr>\n",
              "  </tbody>\n",
              "</table>\n",
              "</div>"
            ],
            "text/plain": [
              "         names\n",
              "0  25641875415\n",
              "1  27631246904\n",
              "2  29140749888\n",
              "3  28754420604\n",
              "4  31039085086"
            ]
          },
          "metadata": {},
          "execution_count": 39
        }
      ]
    },
    {
      "cell_type": "code",
      "metadata": {
        "colab": {
          "base_uri": "https://localhost:8080/"
        },
        "id": "jnnCTHFj0kg8",
        "outputId": "e60a340b-2839-41a9-b50e-3363cf89d6ce"
      },
      "source": [
        "# расходы\n",
        "model = CatBoostRegressor(iterations=5,\n",
        "                          learning_rate=4,\n",
        "                          depth=1)\n",
        "# Fit model\n",
        "model.fit(train, expense_ans)\n",
        "# Get predictions\n",
        "preds = model.predict(test)\n",
        "preds"
      ],
      "execution_count": 60,
      "outputs": [
        {
          "output_type": "stream",
          "name": "stdout",
          "text": [
            "0:\tlearn: 6343712801.8320742\ttotal: 170us\tremaining: 680us\n",
            "1:\tlearn: 8333547559.6139727\ttotal: 329us\tremaining: 494us\n",
            "2:\tlearn: 11380130996.0804558\ttotal: 662us\tremaining: 441us\n",
            "3:\tlearn: 15978011334.5718651\ttotal: 997us\tremaining: 249us\n",
            "4:\tlearn: 22866498547.9574547\ttotal: 1.3ms\tremaining: 0us\n"
          ]
        },
        {
          "output_type": "stream",
          "name": "stderr",
          "text": [
            "learning rate is greater than 1. You probably need to decrease learning rate.\n",
            "learning rate is greater than 1. You probably need to decrease learning rate.\n"
          ]
        },
        {
          "output_type": "execute_result",
          "data": {
            "text/plain": [
              "array([5.2046176e+10])"
            ]
          },
          "metadata": {},
          "execution_count": 60
        }
      ]
    },
    {
      "cell_type": "code",
      "metadata": {
        "colab": {
          "base_uri": "https://localhost:8080/"
        },
        "id": "djxcgZbJ0pKY",
        "outputId": "4da23209-a3b0-4f27-c49a-80cc28fd77c7"
      },
      "source": [
        "(52046176000 - 50268395809.96) * 100/52046176000"
      ],
      "execution_count": 62,
      "outputs": [
        {
          "output_type": "execute_result",
          "data": {
            "text/plain": [
              "3.4157748497026965"
            ]
          },
          "metadata": {},
          "execution_count": 62
        }
      ]
    },
    {
      "cell_type": "code",
      "metadata": {
        "colab": {
          "base_uri": "https://localhost:8080/"
        },
        "id": "yR1lHMfW1iyQ",
        "outputId": "0ed4bc01-23ac-49e3-98ef-2de323c91b71"
      },
      "source": [
        "model.get_feature_importance()"
      ],
      "execution_count": 63,
      "outputs": [
        {
          "output_type": "execute_result",
          "data": {
            "text/plain": [
              "array([57.77571032,  0.        ,  0.        , 13.05570553,  0.        ,\n",
              "        0.        ,  0.        ,  0.        ,  0.        ,  3.49905897,\n",
              "        0.        ,  0.        ,  0.        ,  0.        , 25.66952517,\n",
              "        0.        ,  0.        ,  0.        ,  0.        ,  0.        ,\n",
              "        0.        ])"
            ]
          },
          "metadata": {},
          "execution_count": 63
        }
      ]
    },
    {
      "cell_type": "code",
      "metadata": {
        "id": "dD-Jvecb2O85"
      },
      "source": [
        ""
      ],
      "execution_count": null,
      "outputs": []
    }
  ]
}